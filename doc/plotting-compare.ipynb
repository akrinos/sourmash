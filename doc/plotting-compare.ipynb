{
 "cells": [
  {
   "cell_type": "markdown",
   "metadata": {},
   "source": [
    "# Building plots from `sourmash compare` output"
   ]
  },
  {
   "cell_type": "markdown",
   "metadata": {},
   "source": [
    "TODO:\n",
    "* enable/test binder\n",
    "* add to documentation"
   ]
  },
  {
   "cell_type": "markdown",
   "metadata": {},
   "source": [
    "\n",
    "### Running this notebook.\n",
    "\n",
    "You can run this notebook interactively via mybinder; click on this button:\n",
    "[![Binder](https://mybinder.org/badge_logo.svg)](https://mybinder.org/v2/gh/dib-lab/sourmash/master?filepath=doc%2Fkmers-and-minhash.ipynb)\n",
    "\n",
    "A rendered version of this notebook is available at [sourmash.readthedocs.io](https://sourmash.readthedocs.io) under \"Tutorials and notebooks\".\n",
    "\n",
    "You can also get this notebook from the [doc/ subdirectory of the sourmash github repository](https://github.com/dib-lab/sourmash/tree/master/doc). See [binder/environment.yaml](https://github.com/dib-lab/sourmash/blob/master/binder/environment.yml) for installation dependencies.\n",
    "\n",
    "### What is this?\n",
    "\n",
    "This is a Jupyter Notebook using Python 3. If you are running this via [binder](https://mybinder.org), you can use Shift-ENTER to run cells, and double click on code cells to edit them.\n",
    "\n",
    "Contact: C. Titus Brown, ctbrown@ucdavis.edu. Please [file issues on GitHub](https://github.com/dib-lab/sourmash/issues/) if you have any questions or comments!"
   ]
  },
  {
   "cell_type": "markdown",
   "metadata": {},
   "source": [
    "## Running `sourmash compare`\n",
    "\n"
   ]
  },
  {
   "cell_type": "code",
   "execution_count": 2,
   "metadata": {},
   "outputs": [
    {
     "name": "stdout",
     "output_type": "stream",
     "text": [
      "\u001b[K\n",
      "== This is sourmash version 3.0.2.dev7+g7656f62.d20200114. ==\n",
      "\u001b[K== Please cite Brown and Irber (2016), doi:10.21105/joss.00027. ==\n",
      "\n",
      "\u001b[Kloaded 7 signatures total.                                                     \n",
      "\u001b[K\n",
      "0-SRR2060939_1.fa...\t[1.    0.356 0.078 0.086 0.    0.    0.   ]\n",
      "1-SRR2060939_2.fa...\t[0.356 1.    0.072 0.078 0.    0.    0.   ]\n",
      "2-SRR2241509_1.fa...\t[0.078 0.072 1.    0.074 0.    0.    0.   ]\n",
      "3-SRR2255622_1.fa...\t[0.086 0.078 0.074 1.    0.    0.    0.   ]\n",
      "4-SRR453566_1.fas...\t[0.    0.    0.    0.    1.    0.382 0.364]\n",
      "5-SRR453569_1.fas...\t[0.    0.    0.    0.    0.382 1.    0.386]\n",
      "6-SRR453570_1.fas...\t[0.    0.    0.    0.    0.364 0.386 1.   ]\n",
      "min similarity in matrix: 0.000\n",
      "\u001b[Ksaving labels to: compare-demo.labels.txt\n",
      "\u001b[Ksaving distance matrix to: compare-demo\n"
     ]
    }
   ],
   "source": [
    "!sourmash compare ../tests/test-data/demo/*.sig -o compare-demo"
   ]
  },
  {
   "cell_type": "code",
   "execution_count": 8,
   "metadata": {},
   "outputs": [
    {
     "name": "stdout",
     "output_type": "stream",
     "text": [
      "Populating the interactive namespace from numpy and matplotlib\n"
     ]
    }
   ],
   "source": [
    "%pylab inline"
   ]
  },
  {
   "cell_type": "code",
   "execution_count": 5,
   "metadata": {},
   "outputs": [],
   "source": [
    "from sourmash import fig"
   ]
  },
  {
   "cell_type": "code",
   "execution_count": 11,
   "metadata": {},
   "outputs": [],
   "source": [
    "matrix, labels = fig.load_matrix_and_labels('compare-demo')"
   ]
  },
  {
   "cell_type": "code",
   "execution_count": 13,
   "metadata": {},
   "outputs": [
    {
     "data": {
      "image/png": "[encoded data removed]",
      "text/plain": [
       "<Figure size 792x576 with 3 Axes>"
      ]
     },
     "metadata": {},
     "output_type": "display_data"
    }
   ],
   "source": [
    "_ = fig.plot_composite_matrix(matrix, labels)"
   ]
  }
 ],
 "metadata": {
  "kernelspec": {
   "display_name": "Python 3",
   "language": "python",
   "name": "python3"
  },
  "language_info": {
   "codemirror_mode": {
    "name": "ipython",
    "version": 3
   },
   "file_extension": ".py",
   "mimetype": "text/x-python",
   "name": "python",
   "nbconvert_exporter": "python",
   "pygments_lexer": "ipython3",
   "version": "3.6.7"
  }
 },
 "nbformat": 4,
 "nbformat_minor": 2
}
